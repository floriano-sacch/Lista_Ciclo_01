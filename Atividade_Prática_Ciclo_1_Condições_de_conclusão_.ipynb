{
  "nbformat": 4,
  "nbformat_minor": 0,
  "metadata": {
    "colab": {
      "provenance": [],
      "authorship_tag": "ABX9TyNWqp/0t9BUOwFZwD59uylR",
      "include_colab_link": true
    },
    "kernelspec": {
      "name": "python3",
      "display_name": "Python 3"
    },
    "language_info": {
      "name": "python"
    }
  },
  "cells": [
    {
      "cell_type": "markdown",
      "metadata": {
        "id": "view-in-github",
        "colab_type": "text"
      },
      "source": [
        "<a href=\"https://colab.research.google.com/github/floriano-sacch/Lista_Ciclo_01/blob/main/Atividade_Pr%C3%A1tica_Ciclo_1_Condi%C3%A7%C3%B5es_de_conclus%C3%A3o_.ipynb\" target=\"_parent\"><img src=\"https://colab.research.google.com/assets/colab-badge.svg\" alt=\"Open In Colab\"/></a>"
      ]
    },
    {
      "cell_type": "markdown",
      "source": [
        "Nesta atividade prática, você irá desenvolver um programa em Python que solicita a idade do usuário e verifica se ele é elegível para votar em uma eleição fictícia. O programa irá utilizar uma estrutura condicional para tomar a decisão com base na idade fornecida pelo usuário."
      ],
      "metadata": {
        "id": "o9hHe2eHBg70"
      }
    },
    {
      "cell_type": "code",
      "execution_count": null,
      "metadata": {
        "id": "h-o-ef5_BWtf"
      },
      "outputs": [],
      "source": [
        "print(\"Seja bem-vindo(a) à votação estudantil.\")\n",
        "\n",
        "entrada_usuario = input(\"Digite a sua idade: \")\n",
        "valor_numerico = int(entrada_usuario)\n",
        "\n",
        "if valor_numerico > 16:\n",
        "    print(\"Você é elegível para votar na eleição estudantil!\")\n",
        "else:\n",
        "    print(\"Desculpe, você ainda não tem idade suficiente para votar na eleição estudantil.\")\n",
        "\n"
      ]
    }
  ]
}