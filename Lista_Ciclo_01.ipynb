{
  "nbformat": 4,
  "nbformat_minor": 0,
  "metadata": {
    "colab": {
      "provenance": [],
      "authorship_tag": "ABX9TyMMjzxl9FEYo7oLAh8XlTMu",
      "include_colab_link": true
    },
    "kernelspec": {
      "name": "python3",
      "display_name": "Python 3"
    },
    "language_info": {
      "name": "python"
    }
  },
  "cells": [
    {
      "cell_type": "markdown",
      "metadata": {
        "id": "view-in-github",
        "colab_type": "text"
      },
      "source": [
        "<a href=\"https://colab.research.google.com/github/floriano-sacch/Lista_Ciclo_01/blob/main/Lista_Ciclo_01.ipynb\" target=\"_parent\"><img src=\"https://colab.research.google.com/assets/colab-badge.svg\" alt=\"Open In Colab\"/></a>"
      ]
    },
    {
      "cell_type": "markdown",
      "source": [
        "1. Crie um algoritmo que, dado dois números informados pelo usuário, informe a soma deles."
      ],
      "metadata": {
        "id": "VeCoiGQYaDw6"
      }
    },
    {
      "cell_type": "code",
      "execution_count": null,
      "metadata": {
        "id": "fYfD2l19Z-lV"
      },
      "outputs": [],
      "source": [
        "numero1 = float(input(\"Digite um número qualquer: \"))\n",
        "\n",
        "numero2 = float(input(\"Digite um segundo número: \"))\n",
        "\n",
        "soma = numero1 + numero2\n",
        "\n",
        "print(\"A soma dos números \", numero1, \"+\", numero2, \"é igual a: \", soma)\n"
      ]
    },
    {
      "cell_type": "markdown",
      "source": [
        "2. Crie um algoritmo que, dado três números informados pelo usuário, informe qual é o maior deles.\n"
      ],
      "metadata": {
        "id": "NtavY4HGZ_0j"
      }
    },
    {
      "cell_type": "code",
      "source": [
        "numero1 = float(input(\"Digite um primeiro número: \"))\n",
        "\n",
        "numero2 = float(input(\"Digite um segundo número: \"))\n",
        "\n",
        "numero3 = float(input(\"Digite o terceiro número: \"))\n",
        "\n",
        "if numero1 > numero2:\n",
        "    print(\"O número \", numero1, \"É maoir que o número \", numero2 )\n",
        "else:\n",
        "    print(\"O número \", numero2, \"é maior que o número \", numero1 )\n",
        "\n",
        "if numero1 > numero3:\n",
        "    print(\"O número \", numero1, \"é maior que o número \", numero3 )\n",
        "else:\n",
        "    print(\"O número \", numero3, \"é maior que o número \", numero1 )\n",
        "\n",
        "if numero2 > numero3:\n",
        "    print(\"O número \", numero2, \"é maior que o número \", numero3 )\n",
        "else:\n",
        "    print(\"o número \", numero3, \"é maoir que o número \", numero2 )\n",
        "\n"
      ],
      "metadata": {
        "id": "F8oqQTpMaM8b"
      },
      "execution_count": null,
      "outputs": []
    },
    {
      "cell_type": "markdown",
      "source": [
        "3. Crie um algoritmo que, dado três números informados pelo usuário, informe qual é o menor deles."
      ],
      "metadata": {
        "id": "mc1HX5ZEaPxS"
      }
    },
    {
      "cell_type": "code",
      "source": [
        "numero1 = float(input(\"Digite um primeiro número: \"))\n",
        "numero2 = float(input(\"Digite um segundo número: \"))\n",
        "numero3 = float(input(\"Digite um tercerio número: \"))\n",
        "\n",
        "if numero1 < numero2:\n",
        "    print(\"O número \", numero1, \"é menor que o número \", numero2)\n",
        "else:\n",
        "    print(\"O número \", numero2, \"é menor que o número \", numero1)\n",
        "\n",
        "\n",
        "if numero1 < numero3:\n",
        "    print(\"O número \", numero1, \"é menor que o número \", numero3)\n",
        "else:\n",
        "    print(\"O número \", numero3, \"é menor que o número \", numero1)\n",
        "\n",
        "\n",
        "if numero3 < numero2:\n",
        "    print(\"O número \", numero3, \"é menor que o número \", numero2)\n",
        "else:\n",
        "    print(\"O número \", numero2, \"é menor que o número \", numero3)\n",
        ""
      ],
      "metadata": {
        "id": "NfeCcTX6aUBK"
      },
      "execution_count": null,
      "outputs": []
    },
    {
      "cell_type": "markdown",
      "source": [
        "4. Crie um algoritmo que, dado o nível de alerta de risco, imprima se ele for GRAVE. O nível de alerta é\n",
        "um número que varia de 0 a 10. O nível é considerado GRAVE quando ele é superior a 9."
      ],
      "metadata": {
        "id": "pzslGJYHaWhb"
      }
    },
    {
      "cell_type": "code",
      "source": [
        "nivel_alerta = float(input(\"Digite o nível do alerta: \"))\n",
        "\n",
        "if nivel_alerta > 9:\n",
        "    print(\"Alerta, GRAVE!\")\n",
        "else:\n",
        "    print(\"Alerta, não é GRAVE!\")\n"
      ],
      "metadata": {
        "id": "3OqWyan6aZY6"
      },
      "execution_count": null,
      "outputs": []
    },
    {
      "cell_type": "markdown",
      "source": [
        "5. Agora altere o algoritmo anterior de maneira que ele verifique também se o nível informado está entre 0\n",
        "e 10. Caso contrário uma mensagem de erro deve ser apresenta."
      ],
      "metadata": {
        "id": "662B2H44abmp"
      }
    },
    {
      "cell_type": "code",
      "source": [
        "nivel_alerta = float(input(\"Digite o nível do alerta: \"))\n",
        "\n",
        "if nivel_alerta < 0 or nivel_alerta > 10:\n",
        "    print(\"Erro, o valor do alerta deve estar entre 0 e 9.\")\n",
        "elif nivel_alerta > 9:\n",
        "    print(\"Alerta, GRAVE!\")\n",
        "else:\n",
        "    print(\"Alerta, não é GRAVE!\")\n"
      ],
      "metadata": {
        "id": "cW1Ozdopafsy"
      },
      "execution_count": null,
      "outputs": []
    },
    {
      "cell_type": "markdown",
      "source": [
        "6. Agora altere o algoritmo anterior de maneira que ele verifique os demais níveis de alerta. Considere: 0-\n",
        "3 é \"BAIXO\", maior que 3 até 6 \"MÉDIO\", maior que 6 até 9 \"ALTO\", para os demais casos é considerado\n",
        "\"GRAVE\"."
      ],
      "metadata": {
        "id": "6uGDH-8naiqB"
      }
    },
    {
      "cell_type": "code",
      "source": [
        "nivel_alerta = float(input(\"Digite o nível do alerta: \"))\n",
        "\n",
        "if nivel_alerta < 3:\n",
        "    print(\"O nível de alerta é BAIXO.\")\n",
        "elif nivel_alerta < 6:\n",
        "    print(\"O nível de alerta é MÉDIO.\")\n",
        "elif nivel_alerta < 9:\n",
        "    print(\"O nível de alerta é ALTO.\")\n",
        "if nivel_alerta > 9:\n",
        "    print(\"O nível de alerta é GRAVE.\")"
      ],
      "metadata": {
        "id": "GsMDE7TRalN8"
      },
      "execution_count": null,
      "outputs": []
    },
    {
      "cell_type": "markdown",
      "source": [
        "7. Crie um algoritmo que, dado três números informados pelo usuário, verifique se algum deles é múltiplo\n",
        "de outro. Note que pode haver mais de um múltiplo entre eles."
      ],
      "metadata": {
        "id": "lzJaoeAbam4K"
      }
    },
    {
      "cell_type": "code",
      "source": [
        "numero1 = int(input(\"Digite o primeiro número: \"))\n",
        "numero2 = int(input(\"Digite o segundo número: \"))\n",
        "numero3 = int(input(\"Digite o terceiro número: \"))\n",
        "\n",
        "def verifica_multiplos(numero1, numero2, numero3):\n",
        "    if numero1 % numero2 == 0 or numero2 % numero1 == 0:\n",
        "        print(f\"{numero1} é múltiplo de {numero2}\")\n",
        "    if numero1 % numero3 == 0 or numero3 % numero1 == 0:\n",
        "        print(f\"{numero1} é múltiplo de {numero3}\")\n",
        "    if numero2 % numero3 == 0 or numero3 % numero2 == 0:\n",
        "        print(f\"{numero2} é múltiplo de {numero3}\")\n",
        "\n",
        "verifica_multiplos(numero1, numero2, numero3)\n"
      ],
      "metadata": {
        "id": "5ZrKz9cRaoza"
      },
      "execution_count": null,
      "outputs": []
    },
    {
      "cell_type": "markdown",
      "source": [
        "8. Crie um algoritmo que, dados o tamanho de três lados informados pelo usuário, verifique se: (1) é um\n",
        "triângulo isósceles, (2) é equilátero, (3) é escaleno ou (4) não é um triângulo."
      ],
      "metadata": {
        "id": "wjAvPtC8aq0C"
      }
    },
    {
      "cell_type": "code",
      "source": [
        "a = float(input('Primeiro lado: '))\n",
        "b = float(input('Segundo  lado: '))\n",
        "c = float(input('Terceiro lado: '))\n",
        "\n",
        "if (a + b < c) or (a + c < b) or (b + c < a):\n",
        "    print('Nao é um triangulo')\n",
        "elif (a == b) and (a == c) :\n",
        "    print('Equilatero')\n",
        "elif (a==b) or (a==c) or (b==c):\n",
        "    print('Isósceles')\n",
        "else:\n",
        "    print('Escaleno')\n"
      ],
      "metadata": {
        "id": "tn30ZAR1att6"
      },
      "execution_count": null,
      "outputs": []
    },
    {
      "cell_type": "markdown",
      "source": [
        "9. Crie um algoritmo que, dados os lados de um triângulo informados pelo usuário, calcule a área."
      ],
      "metadata": {
        "id": "FIN17CGWavpR"
      }
    },
    {
      "cell_type": "code",
      "source": [
        "base = float(input(\"Digite um lado do triângulo: \"))\n",
        "\n",
        "altura = float(input(\"Digite o outro lado do triângulo: \"))\n",
        "\n",
        "area = float(input(\"Digite o último lado do triângulo: \"))\n",
        "\n",
        "area = (base * altura) / 2\n",
        "\n",
        "print(\"A área do triângulo é:\", area)\n",
        "\n"
      ],
      "metadata": {
        "id": "5VuR7dXGayny"
      },
      "execution_count": null,
      "outputs": []
    },
    {
      "cell_type": "markdown",
      "source": [
        "10. Considerando o sistema de notas da UniEVANGÉLICA, construa um algoritmo que, dadas 4 notas\n",
        "parciais de um aluno pelo usuário, calcule a média e imprima se o aluno foi aprovado ou reprovado.\n",
        "Considere os 3 ciclos."
      ],
      "metadata": {
        "id": "o3patemaa0uy"
      }
    },
    {
      "cell_type": "code",
      "source": [
        "numero1 = float(input(\"Digite a primeria nota: \"))\n",
        "\n",
        "numero2 = float(input(\"Digite a segunda nota: \"))\n",
        "\n",
        "numero3 = float(input(\"Digite a terceira nota: \"))\n",
        "\n",
        "numero4 = float(input(\"Digite a quarta nota: \"))\n",
        "\n",
        "media = (numero1 + numero2 + numero3 + numero4) / 4\n",
        "\n",
        "if media < 60:\n",
        "    print(\"Você foi REPROVADO.\")\n",
        "elif media >= 60:\n",
        "    print(\"Você foi APROVADO.\")\n",
        "\n"
      ],
      "metadata": {
        "id": "U-63ae_Sa5qC"
      },
      "execution_count": null,
      "outputs": []
    },
    {
      "cell_type": "markdown",
      "source": [
        "11. Agora altere o algoritmo anterior de maneira que ele permita que o professor, antes de informar as notas,\n",
        "informe os seus respectivos pesos. Depois disso o algoritmo deve, de análoga ao exercício anterior,\n",
        "calcular a média, no entanto, agora considerando os seus pesos. Lembrete: A soma dos pesos das\n",
        "notas sempre deve ser 10."
      ],
      "metadata": {
        "id": "qsMq2LtVa8gK"
      }
    },
    {
      "cell_type": "code",
      "source": [
        "nota1 = float(input(\"Digite uma primeria nota: \"))\n",
        "\n",
        "peso1 = float(input(\"Digite o peso da primeira nota: \"))\n",
        "\n",
        "nota2 = float(input(\"Digite uma segunda nota: \"))\n",
        "\n",
        "peso2 = float(input(\"Digite o peso da segunda nota: \"))\n",
        "\n",
        "nota3 = float(input(\"Digite uma terceira nota: \"))\n",
        "\n",
        "peso3 = float(input(\"Digite o peso da terceira nota: \"))\n",
        "\n",
        "nota4 = float(input(\"Digite uma quarta nota: \"))\n",
        "\n",
        "peso4 = float(input(\"Digite o peso da quarta nota: \"))\n",
        "\n",
        "media_ponderada = (nota1 * peso1 + nota2 * peso2 + nota3 * peso3 + nota4 * peso4) / (peso1 + peso2 + peso3 + peso4)\n",
        "\n",
        "media = (nota1 + nota2 + nota3 + nota4) / 4\n",
        "\n",
        "print(\"A média ponderada das notas é igual a: \", media_ponderada)\n",
        "\n",
        "\n",
        "\n",
        "if media < 60:\n",
        "    print(\"Você foi REPROVADO.\")\n",
        "elif media >= 60:\n",
        "    print(\"Você foi APROVADO.\")"
      ],
      "metadata": {
        "id": "jm6O8mwBa7xi"
      },
      "execution_count": null,
      "outputs": []
    },
    {
      "cell_type": "markdown",
      "source": [
        "12. Crie um algoritmo que seja capaz de descobrir, por meio de perguntas lógicas (verdadeiro ou falso)\n",
        "sobre características físicas, um animal que o usuário tenha em mente. Considere os animais: pato,\n",
        "águia, galinha, avestruz, pinguim, morcego, ornitorrinco, leão, gato, onça pintada, baleia, tubarão,\n",
        "lambari, enguia e arraia."
      ],
      "metadata": {
        "id": "5y6pZJEGa_Aq"
      }
    },
    {
      "cell_type": "code",
      "source": [
        "class AnimalAdivinhacao:\n",
        "    def __init__(self):\n",
        "        self.animais = {\n",
        "            \"pato\": [\"É uma ave?\", \"Voa?\", \"Vive na água?\"],\n",
        "            \"águia\": [\"É uma ave de rapina?\", \"Tem uma visão afiada?\", \"Tem penas?\"],\n",
        "            \"galinha\": [\"É uma ave?\", \"Bota ovos?\", \"Tem penas?\"],\n",
        "            \"avestruz\": [\"É uma ave?\", \"É grande e não voa?\", \"Corre rápido?\"],\n",
        "            \"pinguim\": [\"É uma ave?\", \"Vive na água?\", \"Não voa e tem asas nadadoras?\"],\n",
        "            \"morcego\": [\"É um mamífero?\", \"Voa?\", \"Dorme de cabeça para baixo?\"],\n",
        "            \"ornitorrinco\": [\"É um mamífero?\", \"Põe ovos?\", \"Tem bico e vive na água?\"],\n",
        "            \"leão\": [\"É um felino?\", \"Vive na selva africana?\", \"É conhecido pelo seu rugido?\"],\n",
        "            \"gato\": [\"É um felino?\", \"É domesticado?\", \"Tem bigodes?\"],\n",
        "            \"onça pintada\": [\"É um felino?\", \"Tem manchas na pele?\", \"Vive na América do Sul?\"],\n",
        "            \"baleia\": [\"É um mamífero marinho?\", \"É o maior animal do mundo?\", \"Respira ar?\"],\n",
        "            \"tubarão\": [\"É um peixe?\", \"Tem dentes afiados?\", \"Vive nos oceanos?\"],\n",
        "            \"lambari\": [\"É um peixe?\", \"É pequeno?\", \"Usado como isca de pesca?\"],\n",
        "            \"enguia\": [\"É um peixe?\", \"Tem corpo alongado e escorregadio?\", \"Vive em água doce?\"],\n",
        "            \"arraia\": [\"É um peixe cartilaginoso?\", \"Tem forma achatada?\", \"Tem cauda longa?\"],\n",
        "        }\n",
        "\n",
        "    def fazer_pergunta(self, pergunta):\n",
        "        for animal, caracteristicas in self.animais.items():\n",
        "            respostas = []\n",
        "            for caracteristica in caracteristicas:\n",
        "                resposta = input(f\"{animal}: {caracteristica} (sim ou não): \").lower()\n",
        "                if resposta == \"sim\":\n",
        "                    respostas.append(True)\n",
        "                else:\n",
        "                    respostas.append(False)\n",
        "\n",
        "            if all(respostas):\n",
        "                return animal\n",
        "\n",
        "        return \"Não sei qual é o animal que você está pensando.\"\n",
        "\n",
        "    def jogar(self):\n",
        "        print(\"Pense em um animal e responda às perguntas com sim ou não.\")\n",
        "        while True:\n",
        "            pergunta = input(\"Pronto para a primeira pergunta? (sim ou não): \").lower()\n",
        "            if pergunta != \"sim\":\n",
        "                break\n",
        "            animal_adivinhado = self.fazer_pergunta(pergunta)\n",
        "            print(f\"Eu acho que você está pensando em um(a) {animal_adivinhado}!\")\n",
        "\n",
        "if __name__ == \"__main__\":\n",
        "    jogo = AnimalAdivinhacao()\n",
        "    jogo.jogar()\n"
      ],
      "metadata": {
        "id": "Su41rFrnbw0a"
      },
      "execution_count": null,
      "outputs": []
    },
    {
      "cell_type": "markdown",
      "source": [
        "13. Faça um algoritmo que, dados três números inteiros, os imprima em ordem crescente."
      ],
      "metadata": {
        "id": "ewMzLuTObAci"
      }
    },
    {
      "cell_type": "code",
      "source": [
        "num1 = int(input(\"Digite o primeiro número inteiro: \"))\n",
        "num2 = int(input(\"Digite o segundo número inteiro: \"))\n",
        "num3 = int(input(\"Digite o terceiro número inteiro: \"))\n",
        "\n",
        "numeros = [num1, num2, num3]\n",
        "numeros.sort()\n",
        "\n",
        "print(\"Números em ordem crescente:\", numeros)\n",
        "\n"
      ],
      "metadata": {
        "id": "mVvjGeFZb05r"
      },
      "execution_count": null,
      "outputs": []
    },
    {
      "cell_type": "markdown",
      "source": [
        "14. Agora altere esse algoritmo para que imprima os números em ordem decrescente."
      ],
      "metadata": {
        "id": "lSCyYA96bDwx"
      }
    },
    {
      "cell_type": "code",
      "source": [
        "num1 = int(input(\"Digite o primeiro número inteiro: \"))\n",
        "num2 = int(input(\"Digite o segundo número inteiro: \"))\n",
        "num3 = int(input(\"Digite o terceiro número inteiro: \"))\n",
        "\n",
        "numeros = [num3, num2, num1]\n",
        "numeros.sort(reverse=True)\n",
        "\n",
        "print(\"Números em ordem decrescente:\", numeros)"
      ],
      "metadata": {
        "id": "zphTq31Fb6Cb"
      },
      "execution_count": null,
      "outputs": []
    },
    {
      "cell_type": "markdown",
      "source": [
        "15. Escreva um algoritmo para cadastro de dados básicos de alunos. O usuário deve informar o número da\n",
        "matrícula (cinco dígitos), nome completo do aluno, gênero (o usuário deve informar “M” ou “F”), curso\n",
        "(o usuário deve informar “BES”, “BEC” ou “ADS”) e coeficiente de rendimento (dever ser maior ou igual\n",
        "a zero e menor ou igual a 100). Como resultado o sistema deve imprimir a matrícula, o nome do aluno,\n",
        "gênero (deve imprimir “Masculino” ou “Feminino”), curso (“Bacharelado em Engenharia de Software”\n",
        "para “BES”, “Bacharelado em Engenharia de Computação” para “BEC” e “Analise e Desenvolvimento\n",
        "de Sistemas” para “ADS”), o coeficiente de rendimento, seguido por “Excelente” se o coeficiente for [90,\n",
        "100], “Bom” se entre [70, 90), “Regular” se entre [50, 70), “Necessita melhoras” se entre [30, 50) e\n",
        "“Preocupante” se entre [0, 30). Note a existência de intervalos fechados e semifechados para os\n",
        "coeficientes."
      ],
      "metadata": {
        "id": "N4Y5jYtBbGHN"
      }
    },
    {
      "cell_type": "code",
      "source": [
        "# Solicita os dados do aluno\n",
        "matricula = input(\"Digite o número da matrícula (cinco dígitos): \")\n",
        "nome = input(\"Digite o nome completo do aluno: \")\n",
        "genero = input(\"Digite o gênero (M para masculino, F para feminino): \")\n",
        "curso = input(\"Digite o curso (BES para Bacharelado em Engenharia de Software, BEC para Bacharelado em Engenharia de Computação, ADS para Análise e Desenvolvimento de Sistemas): \")\n",
        "coeficiente = float(input(\"Digite o coeficiente de rendimento (de 0 a 100): \"))\n",
        "\n",
        "# Converte o gênero para a forma completa\n",
        "if genero == \"M\":\n",
        "    genero = \"Masculino\"\n",
        "elif genero == \"F\":\n",
        "    genero = \"Feminino\"\n",
        "else:\n",
        "    genero = \"Desconhecido\"\n",
        "\n",
        "# Converte o curso para a forma completa\n",
        "if curso == \"BES\":\n",
        "    curso = \"Bacharelado em Engenharia de Software\"\n",
        "elif curso == \"BEC\":\n",
        "    curso = \"Bacharelado em Engenharia de Computação\"\n",
        "elif curso == \"ADS\":\n",
        "    curso = \"Análise e Desenvolvimento de Sistemas\"\n",
        "else:\n",
        "    curso = \"Curso Desconhecido\"\n",
        "\n",
        "# Determina a classificação do coeficiente de rendimento\n",
        "if coeficiente >= 90:\n",
        "    classificacao = \"Excelente\"\n",
        "elif coeficiente >= 70:\n",
        "    classificacao = \"Bom\"\n",
        "elif coeficiente >= 50:\n",
        "    classificacao = \"Regular\"\n",
        "elif coeficiente >= 30:\n",
        "    classificacao = \"Necessita melhoras\"\n",
        "else:\n",
        "    classificacao = \"Preocupante\"\n",
        "# Imprime os dados do aluno e a classificação\n",
        "print()\n",
        "print(\"Matrícula:\", matricula)\n",
        "print()\n",
        "print(\"Nome do aluno:\", nome)\n",
        "print()\n",
        "print(\"Gênero:\", genero)\n",
        "print()\n",
        "print(\"Curso:\", curso)\n",
        "print()\n",
        "print(\"Coeficiente de Rendimento:\", coeficiente)\n",
        "print()\n",
        "print(\"Classificação:\", classificacao)\n",
        "print()\n"
      ],
      "metadata": {
        "id": "rkb8U3avcEnr"
      },
      "execution_count": null,
      "outputs": []
    },
    {
      "cell_type": "markdown",
      "source": [
        "16. Você viajou para os Estados Unidos e descobriu que lá a unidade de medida de temperatura é diferente\n",
        "da do Brasil. Para não ter que acessar um serviço na internet a todo o momento, nem fazer os cálculos\n",
        "manualmente, faça um algoritmo que converte a temperatura, dada uma unidade de medida e uma\n",
        "temperatura. Ou seja, se a data for informada em Celsius o algoritmo deve fornecer a temperatura em\n",
        "Fahrenheit, já se a temperatura for fornecida em Fahrenheit, o resultado deve ser em graus Celsius."
      ],
      "metadata": {
        "id": "ijE7q7R6bHHg"
      }
    },
    {
      "cell_type": "code",
      "source": [
        "def converter_temperatura(temperatura, unidade):\n",
        "    if unidade == 'C':\n",
        "        temperatura_fahrenheit = (temperatura * 9/5) + 32\n",
        "        return temperatura_fahrenheit\n",
        "    elif unidade == 'F':\n",
        "        temperatura_celsius = (temperatura - 32) * 5/9\n",
        "        return temperatura_celsius\n",
        "    else:\n",
        "        return \"Unidade de medida inválida.\"\n",
        "\n",
        "# Exemplo de uso:\n",
        "temperatura = float(input(\"Digite a temperatura: \"))\n",
        "unidade = input(\"Digite a unidade de medida (C ou F): \")\n",
        "\n",
        "temperatura_convertida = converter_temperatura(temperatura, unidade)\n",
        "print(\"A temperatura convertida é:\", temperatura_convertida)"
      ],
      "metadata": {
        "id": "PCCSdP9ScIoK"
      },
      "execution_count": null,
      "outputs": []
    },
    {
      "cell_type": "markdown",
      "source": [
        "17. Problemas simples do cotidiano podem representar desafios para o mundo computacional. Faça um\n",
        "algoritmo que, dados três números inteiros representando dia, mês e ano de uma data, imprima qual o\n",
        "dia seguinte."
      ],
      "metadata": {
        "id": "_WEMuHNWbI2S"
      }
    },
    {
      "cell_type": "code",
      "source": [
        "dia = int(input(\"Digite o dia: \"))\n",
        "mes = int(input(\"Digite o mês: \"))\n",
        "ano = int(input(\"Digite o ano: \"))\n",
        "\n",
        "if dia < 1 or mes < 1 or mes > 12 or ano < 1:\n",
        "    print(\"Data inválida!\")\n",
        "else:\n",
        "    max_dias = [0, 31, 28, 31, 30, 31, 30, 31, 31, 30, 31, 30, 31]\n",
        "\n",
        "    if ano % 4 == 0 and (ano % 100 != 0 or ano % 400 == 0):\n",
        "        max_dias[2] = 29\n",
        "\n",
        "    if dia <= max_dias[mes]:\n",
        "        dia += 1\n",
        "\n",
        "        if dia > max_dias[mes]:\n",
        "            dia = 1\n",
        "            mes += 1\n",
        "\n",
        "            if mes > 12:\n",
        "                mes = 1\n",
        "                ano += 1\n",
        "\n",
        "        print(f\"O dia seguinte é: {dia}/{mes}/{ano}\")\n",
        "    else:\n",
        "        print(\"Dia inválido para o mês fornecido.\")"
      ],
      "metadata": {
        "id": "ptnsa3WfcJiK"
      },
      "execution_count": null,
      "outputs": []
    },
    {
      "cell_type": "markdown",
      "source": [
        "18. Agora, crie um algoritmo que imprima o dia anterior da data informada."
      ],
      "metadata": {
        "id": "DkqngJzqbI7l"
      }
    },
    {
      "cell_type": "code",
      "source": [
        "dia = int(input(\"Digite o dia: \"))\n",
        "mes = int(input(\"Digite o mês: \"))\n",
        "ano = int(input(\"Digite o ano: \"))\n",
        "\n",
        "if dia < 1 or mes < 1 or mes > 12 or ano < 1:\n",
        "    print(\"Data inválida!\")\n",
        "else:\n",
        "    max_dias = [0, 31, 28, 31, 30, 31, 30, 31, 31, 30, 31, 30, 31]\n",
        "\n",
        "    if ano % 4 == 0 and (ano % 100 != 0 or ano % 400 == 0):\n",
        "        max_dias[2] = 29\n",
        "\n",
        "    if dia <= max_dias[mes]:\n",
        "        dia -= 1\n",
        "\n",
        "        if dia == 0:\n",
        "            mes -= 1\n",
        "\n",
        "            if mes == 0:\n",
        "                mes = 12\n",
        "                ano -= 1\n",
        "\n",
        "            dia = max_dias[mes]\n",
        "\n",
        "        print(f\"O dia anterior é: {dia}/{mes}/{ano}\")\n",
        "    else:\n",
        "        print(\"Dia inválido para o mês fornecido.\")"
      ],
      "metadata": {
        "id": "NyK87Ba1cJy7"
      },
      "execution_count": null,
      "outputs": []
    },
    {
      "cell_type": "markdown",
      "source": [
        "19. Faça um algoritmo que, dado o valor total em reais e o número de prestações desejadas, calcule o valor\n",
        "de cada prestação. O número mínimo de prestações deve ser 12. Se o número de prestações for maior\n",
        "ou igual a 24, adicione 10% de juros ao valor total, se for maior ou igual a 36, adicione 15% de juros ao\n",
        "valor total"
      ],
      "metadata": {
        "id": "RcSmcskRbNcq"
      }
    },
    {
      "cell_type": "code",
      "source": [
        "valor_total = float(input(\"Digite o valor total em reais: \"))\n",
        "num_prestacoes = int(input(\"Digite o número de prestações (máximo 12): \"))\n",
        "\n",
        "if num_prestacoes <= 12:\n",
        "    valor_prestacao = valor_total / num_prestacoes\n",
        "\n",
        "print(f\"O valor de cada prestação é de R${valor_prestacao:.2f}.\")"
      ],
      "metadata": {
        "id": "99mFHVOFcKvt"
      },
      "execution_count": null,
      "outputs": []
    },
    {
      "cell_type": "markdown",
      "source": [
        "20. Escreva um programa que, dado o valor da venda, imprima a comissa ̃o que devera ́ ser paga ao\n",
        "vendedor. Para calcular a comissa ̃o, considere a tabela abaixo:"
      ],
      "metadata": {
        "id": "FiY9AqxhbNjc"
      }
    },
    {
      "cell_type": "code",
      "source": [
        "valor_venda = float(input(\"Digite o valor da venda: \"))\n",
        "\n",
        "tabela_comissoes = [\n",
        "    (100000, 0.16),\n",
        "    (99999, 0.14),\n",
        "    (79999, 0.14),\n",
        "]\n",
        "\n",
        "comissao = 0\n",
        "\n",
        "for limite, taxa in tabela_comissoes:\n",
        "    if valor_venda <= limite:\n",
        "        comissao = valor_venda * taxa\n",
        "        break\n",
        "\n",
        "print(f\"A comissão a ser paga ao vendedor é de R${comissao:.2f}.\")\n",
        "\n"
      ],
      "metadata": {
        "id": "HhdfZanDcLqS"
      },
      "execution_count": null,
      "outputs": []
    }
  ]
}